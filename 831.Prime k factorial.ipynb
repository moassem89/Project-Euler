{
 "cells": [
  {
   "cell_type": "markdown",
   "metadata": {},
   "source": [
    "# Problem 831 Project Euler\n",
    "\n",
    "\n",
    "For a prime $p$ let $S(p) = (\\sum(p-k)!) mod(p)$ for $1 \\leq k \\leq 5$.\n",
    "\n",
    "For example, if $p=7$,\n",
    "$(7-1)! + (7-2)! + (7-3)! + (7-4)! + (7-5)! = 6! + 5! + 4! + 3! + 2! = 720+120+24+6+2 = 872.$\n",
    "As $872 mod(7) = 4$, $S(7) = 4.$\n",
    "\n",
    "It can be verified that $\\sum S(p) = 480 for 5 ≤ p < 100$.\n",
    "\n",
    "Find$ ∑S(p)$ for $5 ≤ p < 108$."
   ]
  },
  {
   "cell_type": "code",
   "execution_count": null,
   "metadata": {},
   "outputs": [],
   "source": []
  }
 ],
 "metadata": {
  "kernelspec": {
   "display_name": "Python 3",
   "language": "python",
   "name": "python3"
  },
  "language_info": {
   "codemirror_mode": {
    "name": "ipython",
    "version": 3
   },
   "file_extension": ".py",
   "mimetype": "text/x-python",
   "name": "python",
   "nbconvert_exporter": "python",
   "pygments_lexer": "ipython3",
   "version": "3.7.2"
  }
 },
 "nbformat": 4,
 "nbformat_minor": 2
}
