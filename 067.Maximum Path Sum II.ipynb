{
 "cells": [
  {
   "cell_type": "code",
   "execution_count": 1,
   "metadata": {},
   "outputs": [],
   "source": [
    "def txt_lolsts(filename):\n",
    "\n",
    "    f = open(filename,'r')\n",
    "    l=f.readlines()\n",
    "    l_1 = list(map(lambda e: e.replace('\\n',''),l))\n",
    "    l_2 = list(map(lambda e: e.split(' '),l_1))\n",
    "\n",
    "    def string_to_int(lst):\n",
    "        return list(map(lambda e: int(e),lst))\n",
    "\n",
    "    l_3 = list(map(lambda e: string_to_int(e),l_2))\n",
    "    f.close()\n",
    "    return l_3"
   ]
  },
  {
   "cell_type": "code",
   "execution_count": 2,
   "metadata": {},
   "outputs": [],
   "source": [
    "def solve(filename):\n",
    "    triangle_lst = txt_lolsts(filename)\n",
    "    n = len(triangle_lst)\n",
    "    for i in range(n-2,-1,-1):\n",
    "        newlst = []\n",
    "        lenrow = len(triangle_lst[i])\n",
    "        for j in range(lenrow):\n",
    "            newelem = triangle_lst[i][j]+max(triangle_lst[i+1][j],triangle_lst[i+1][j+1])\n",
    "            newlst.append(newelem)\n",
    "        triangle_lst[i]=newlst\n",
    "    return triangle_lst[0][0]"
   ]
  },
  {
   "cell_type": "code",
   "execution_count": 3,
   "metadata": {},
   "outputs": [
    {
     "data": {
      "text/plain": [
       "7273"
      ]
     },
     "execution_count": 3,
     "metadata": {},
     "output_type": "execute_result"
    }
   ],
   "source": [
    "solve(\"BIGtriangle.txt\")"
   ]
  },
  {
   "cell_type": "code",
   "execution_count": null,
   "metadata": {},
   "outputs": [],
   "source": []
  }
 ],
 "metadata": {
  "kernelspec": {
   "display_name": "Python 3",
   "language": "python",
   "name": "python3"
  },
  "language_info": {
   "codemirror_mode": {
    "name": "ipython",
    "version": 3
   },
   "file_extension": ".py",
   "mimetype": "text/x-python",
   "name": "python",
   "nbconvert_exporter": "python",
   "pygments_lexer": "ipython3",
   "version": "3.7.2"
  }
 },
 "nbformat": 4,
 "nbformat_minor": 2
}
