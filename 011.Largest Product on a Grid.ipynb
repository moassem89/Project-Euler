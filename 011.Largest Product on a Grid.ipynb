{
 "cells": [
  {
   "cell_type": "code",
   "execution_count": 27,
   "metadata": {},
   "outputs": [],
   "source": [
    "# This demonstrates understanding of Pythonic I/O and \n",
    "# abstract list functions\n",
    "\n",
    "filename = \"Matrix20x20.txt\"\n",
    "f = open(filename,'r')\n",
    "l=f.readlines()\n",
    "l_1 = list(map(lambda e: e.replace('\\n',''),l))\n",
    "l_2 = list(map(lambda e: e.split(' '),l_1))\n",
    "\n",
    "def string_to_int(lst):\n",
    "    return list(map(lambda e: int(e),lst))\n",
    "\n",
    "l_3 = list(map(lambda e: string_to_int(e),l_2))\n",
    "f.close()"
   ]
  },
  {
   "cell_type": "markdown",
   "metadata": {},
   "source": [
    "There is, however, a more pythonic approach...\n",
    "This uses numpy and it's cool\n",
    "https://stackoverflow.com/questions/25271035/read-file-into-two-dimensional-list?fbclid=IwAR1rmhZ3TdpkK6juoJWzxjfntrU4EhMdi78W7LbmHvOTPgHWbcqWEEOG_nM"
   ]
  },
  {
   "cell_type": "code",
   "execution_count": 28,
   "metadata": {},
   "outputs": [],
   "source": [
    "import numpy as np"
   ]
  },
  {
   "cell_type": "code",
   "execution_count": 29,
   "metadata": {},
   "outputs": [],
   "source": [
    "def text_array_to_list(filename):\n",
    "    f = open(filename, \"r\")\n",
    "    data = np.loadtxt(f, delimiter = \" \", dtype = int)\n",
    "    return data.tolist()"
   ]
  },
  {
   "cell_type": "code",
   "execution_count": 30,
   "metadata": {},
   "outputs": [],
   "source": [
    "x = text_array_to_list(filename)"
   ]
  },
  {
   "cell_type": "code",
   "execution_count": 37,
   "metadata": {},
   "outputs": [
    {
     "data": {
      "text/plain": [
       "True"
      ]
     },
     "execution_count": 37,
     "metadata": {},
     "output_type": "execute_result"
    }
   ],
   "source": [
    "l_3 == x"
   ]
  },
  {
   "cell_type": "code",
   "execution_count": 35,
   "metadata": {},
   "outputs": [],
   "source": [
    "horizontal_temp_max = 0\n",
    "for lst in l_3:\n",
    "    for i in range(16):\n",
    "        prod = lst[i]*lst[i+1]*lst[i+2]*lst[i+3]\n",
    "        if prod>horizontal_temp_max:\n",
    "            horizontal_temp_max = prod"
   ]
  },
  {
   "cell_type": "code",
   "execution_count": 36,
   "metadata": {},
   "outputs": [
    {
     "data": {
      "text/plain": [
       "48477312"
      ]
     },
     "execution_count": 36,
     "metadata": {},
     "output_type": "execute_result"
    }
   ],
   "source": [
    "horizontal_temp_max"
   ]
  },
  {
   "cell_type": "code",
   "execution_count": 48,
   "metadata": {},
   "outputs": [
    {
     "name": "stdout",
     "output_type": "stream",
     "text": [
      "25.8 µs ± 14.1 ns per loop (mean ± std. dev. of 7 runs, 10000 loops each)\n"
     ]
    }
   ],
   "source": [
    "%%timeit\n",
    "l_3_transpose = np.array(l_3).T.tolist()\n",
    "#l_3_transpose "
   ]
  },
  {
   "cell_type": "code",
   "execution_count": 49,
   "metadata": {},
   "outputs": [
    {
     "name": "stdout",
     "output_type": "stream",
     "text": [
      "5.25 µs ± 1.91 ns per loop (mean ± std. dev. of 7 runs, 100000 loops each)\n"
     ]
    }
   ],
   "source": [
    "%%timeit\n",
    "# Mutation... we don't want it\n",
    "l_3_transpose_pythonic = list(map(list, zip(*l_3)))"
   ]
  },
  {
   "cell_type": "code",
   "execution_count": 51,
   "metadata": {},
   "outputs": [
    {
     "data": {
      "text/plain": [
       "True"
      ]
     },
     "execution_count": 51,
     "metadata": {},
     "output_type": "execute_result"
    }
   ],
   "source": [
    "l_3_transpose == l_3_transpose_pythonic"
   ]
  },
  {
   "cell_type": "code",
   "execution_count": 50,
   "metadata": {},
   "outputs": [
    {
     "data": {
      "text/plain": [
       "51267216"
      ]
     },
     "execution_count": 50,
     "metadata": {},
     "output_type": "execute_result"
    }
   ],
   "source": [
    "vertical_temp_max = horizontal_temp_max\n",
    "for lst in l_3_transpose :\n",
    "    for i in range(16):\n",
    "        prod = lst[i]*lst[i+1]*lst[i+2]*lst[i+3]\n",
    "        if prod>vertical_temp_max:\n",
    "            vertical_temp_max = prod\n",
    "vertical_temp_max"
   ]
  },
  {
   "cell_type": "code",
   "execution_count": 53,
   "metadata": {},
   "outputs": [
    {
     "data": {
      "text/plain": [
       "51267216"
      ]
     },
     "execution_count": 53,
     "metadata": {},
     "output_type": "execute_result"
    }
   ],
   "source": [
    "diagonal_temp_max = vertical_temp_max #because vertical is bigger\n",
    "for i in range(16):\n",
    "    for j in range(16):\n",
    "        prod = l_3[i][j]*l_3[i+1][j+1]*l_3[i+2][j+2]*l_3[i+3][j+3]\n",
    "        if prod>diagonal_temp_max:\n",
    "            diagonal_temp_max = prod\n",
    "diagonal_temp_max"
   ]
  },
  {
   "cell_type": "code",
   "execution_count": 54,
   "metadata": {},
   "outputs": [
    {
     "data": {
      "text/plain": [
       "70600674"
      ]
     },
     "execution_count": 54,
     "metadata": {},
     "output_type": "execute_result"
    }
   ],
   "source": [
    "#diagonal_temp_max = vertical_temp_max #because vertical is bigger\n",
    "for i in range(16):\n",
    "    for j in range(3,20):\n",
    "        prod = l_3[i][j]*l_3[i+1][j-1]*l_3[i+2][j-2]*l_3[i+3][j-3]\n",
    "        if prod>diagonal_temp_max:\n",
    "            diagonal_temp_max = prod\n",
    "diagonal_temp_max"
   ]
  },
  {
   "cell_type": "code",
   "execution_count": 55,
   "metadata": {},
   "outputs": [],
   "source": [
    "def solve(filename):\n",
    "    l_3 = text_array_to_list(filename)\n",
    "    \n",
    "    temp_max = 0 \n",
    "    #test for horizontal max\n",
    "    for lst in l_3:\n",
    "        for i in range(16):\n",
    "            prod = lst[i]*lst[i+1]*lst[i+2]*lst[i+3]\n",
    "            if prod>temp_max:\n",
    "                temp_max = prod\n",
    "    \n",
    "    #test for vertical max\n",
    "    l_3_transpose = np.array(l_3).T.tolist()\n",
    "  \n",
    "    for lst in l_3_transpose :\n",
    "        for i in range(16):\n",
    "            prod = lst[i]*lst[i+1]*lst[i+2]*lst[i+3]\n",
    "            if prod>temp_max:\n",
    "                temp_max = prod\n",
    "    #test for diagonal max\n",
    "    for i in range(16):\n",
    "        for j in range(16):\n",
    "                prod = l_3[i][j]*l_3[i+1][j+1]*l_3[i+2][j+2]*l_3[i+3][j+3]\n",
    "                if prod>temp_max:\n",
    "                    temp_max = prod\n",
    "    #test for reverse diagonal\n",
    "    for i in range(16):\n",
    "        for j in range(3,20):\n",
    "            prod = l_3[i][j]*l_3[i+1][j-1]*l_3[i+2][j-2]*l_3[i+3][j-3]\n",
    "            if prod>temp_max:\n",
    "                temp_max = prod\n",
    "    return temp_max"
   ]
  },
  {
   "cell_type": "code",
   "execution_count": 56,
   "metadata": {},
   "outputs": [
    {
     "data": {
      "text/plain": [
       "70600674"
      ]
     },
     "execution_count": 56,
     "metadata": {},
     "output_type": "execute_result"
    }
   ],
   "source": [
    "solve(filename)"
   ]
  },
  {
   "cell_type": "markdown",
   "metadata": {},
   "source": [
    "## To do:\n",
    "- Generalize so that the dimension is an argument or ... \n",
    "\n",
    "- Generalize so that instead of product of 4 product of k"
   ]
  },
  {
   "cell_type": "code",
   "execution_count": null,
   "metadata": {},
   "outputs": [],
   "source": []
  }
 ],
 "metadata": {
  "kernelspec": {
   "display_name": "Python 3",
   "language": "python",
   "name": "python3"
  },
  "language_info": {
   "codemirror_mode": {
    "name": "ipython",
    "version": 3
   },
   "file_extension": ".py",
   "mimetype": "text/x-python",
   "name": "python",
   "nbconvert_exporter": "python",
   "pygments_lexer": "ipython3",
   "version": "3.7.2"
  }
 },
 "nbformat": 4,
 "nbformat_minor": 2
}
